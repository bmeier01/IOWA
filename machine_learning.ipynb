{
 "cells": [
  {
   "cell_type": "markdown",
   "metadata": {},
   "source": [
    "### House Prices: Advanced Regression Techniques\n",
    "\n",
    "Predict sales prices and practice feature engineering, RFs, and gradient boosting"
   ]
  },
  {
   "cell_type": "code",
   "execution_count": 25,
   "metadata": {},
   "outputs": [],
   "source": [
    "import pandas as pd\n",
    "import numpy as np\n",
    "import matplotlib.pyplot as plt\n",
    "from sklearn import linear_model\n",
    "from sklearn.preprocessing import OneHotEncoder\n",
    "from sklearn.metrics import mean_squared_error\n",
    "from sklearn.tree import DecisionTreeRegressor\n",
    "from sklearn.model_selection import train_test_split\n",
    "from sklearn.model_selection import cross_val_score\n",
    "from sklearn.ensemble import GradientBoostingRegressor\n",
    "from sklearn.ensemble import RandomForestRegressor\n",
    "from sklearn.model_selection import GridSearchCV"
   ]
  },
  {
   "cell_type": "code",
   "execution_count": 2,
   "metadata": {},
   "outputs": [],
   "source": [
    "train = pd.read_csv('train.csv')\n",
    "train = train.set_index('Id')\n",
    "test = pd.read_csv('test.csv')\n",
    "test = test.set_index('Id')"
   ]
  },
  {
   "cell_type": "code",
   "execution_count": 3,
   "metadata": {},
   "outputs": [
    {
     "data": {
      "text/html": [
       "<div>\n",
       "<style scoped>\n",
       "    .dataframe tbody tr th:only-of-type {\n",
       "        vertical-align: middle;\n",
       "    }\n",
       "\n",
       "    .dataframe tbody tr th {\n",
       "        vertical-align: top;\n",
       "    }\n",
       "\n",
       "    .dataframe thead th {\n",
       "        text-align: right;\n",
       "    }\n",
       "</style>\n",
       "<table border=\"1\" class=\"dataframe\">\n",
       "  <thead>\n",
       "    <tr style=\"text-align: right;\">\n",
       "      <th></th>\n",
       "      <th>MSSubClass</th>\n",
       "      <th>MSZoning</th>\n",
       "      <th>LotFrontage</th>\n",
       "      <th>LotArea</th>\n",
       "      <th>Street</th>\n",
       "      <th>Alley</th>\n",
       "      <th>LotShape</th>\n",
       "      <th>LandContour</th>\n",
       "      <th>Utilities</th>\n",
       "      <th>LotConfig</th>\n",
       "      <th>...</th>\n",
       "      <th>PoolArea</th>\n",
       "      <th>PoolQC</th>\n",
       "      <th>Fence</th>\n",
       "      <th>MiscFeature</th>\n",
       "      <th>MiscVal</th>\n",
       "      <th>MoSold</th>\n",
       "      <th>YrSold</th>\n",
       "      <th>SaleType</th>\n",
       "      <th>SaleCondition</th>\n",
       "      <th>SalePrice</th>\n",
       "    </tr>\n",
       "    <tr>\n",
       "      <th>Id</th>\n",
       "      <th></th>\n",
       "      <th></th>\n",
       "      <th></th>\n",
       "      <th></th>\n",
       "      <th></th>\n",
       "      <th></th>\n",
       "      <th></th>\n",
       "      <th></th>\n",
       "      <th></th>\n",
       "      <th></th>\n",
       "      <th></th>\n",
       "      <th></th>\n",
       "      <th></th>\n",
       "      <th></th>\n",
       "      <th></th>\n",
       "      <th></th>\n",
       "      <th></th>\n",
       "      <th></th>\n",
       "      <th></th>\n",
       "      <th></th>\n",
       "      <th></th>\n",
       "    </tr>\n",
       "  </thead>\n",
       "  <tbody>\n",
       "    <tr>\n",
       "      <td>1</td>\n",
       "      <td>60</td>\n",
       "      <td>RL</td>\n",
       "      <td>65.0</td>\n",
       "      <td>8450</td>\n",
       "      <td>Pave</td>\n",
       "      <td>NaN</td>\n",
       "      <td>Reg</td>\n",
       "      <td>Lvl</td>\n",
       "      <td>AllPub</td>\n",
       "      <td>Inside</td>\n",
       "      <td>...</td>\n",
       "      <td>0</td>\n",
       "      <td>NaN</td>\n",
       "      <td>NaN</td>\n",
       "      <td>NaN</td>\n",
       "      <td>0</td>\n",
       "      <td>2</td>\n",
       "      <td>2008</td>\n",
       "      <td>WD</td>\n",
       "      <td>Normal</td>\n",
       "      <td>208500</td>\n",
       "    </tr>\n",
       "    <tr>\n",
       "      <td>2</td>\n",
       "      <td>20</td>\n",
       "      <td>RL</td>\n",
       "      <td>80.0</td>\n",
       "      <td>9600</td>\n",
       "      <td>Pave</td>\n",
       "      <td>NaN</td>\n",
       "      <td>Reg</td>\n",
       "      <td>Lvl</td>\n",
       "      <td>AllPub</td>\n",
       "      <td>FR2</td>\n",
       "      <td>...</td>\n",
       "      <td>0</td>\n",
       "      <td>NaN</td>\n",
       "      <td>NaN</td>\n",
       "      <td>NaN</td>\n",
       "      <td>0</td>\n",
       "      <td>5</td>\n",
       "      <td>2007</td>\n",
       "      <td>WD</td>\n",
       "      <td>Normal</td>\n",
       "      <td>181500</td>\n",
       "    </tr>\n",
       "    <tr>\n",
       "      <td>3</td>\n",
       "      <td>60</td>\n",
       "      <td>RL</td>\n",
       "      <td>68.0</td>\n",
       "      <td>11250</td>\n",
       "      <td>Pave</td>\n",
       "      <td>NaN</td>\n",
       "      <td>IR1</td>\n",
       "      <td>Lvl</td>\n",
       "      <td>AllPub</td>\n",
       "      <td>Inside</td>\n",
       "      <td>...</td>\n",
       "      <td>0</td>\n",
       "      <td>NaN</td>\n",
       "      <td>NaN</td>\n",
       "      <td>NaN</td>\n",
       "      <td>0</td>\n",
       "      <td>9</td>\n",
       "      <td>2008</td>\n",
       "      <td>WD</td>\n",
       "      <td>Normal</td>\n",
       "      <td>223500</td>\n",
       "    </tr>\n",
       "    <tr>\n",
       "      <td>4</td>\n",
       "      <td>70</td>\n",
       "      <td>RL</td>\n",
       "      <td>60.0</td>\n",
       "      <td>9550</td>\n",
       "      <td>Pave</td>\n",
       "      <td>NaN</td>\n",
       "      <td>IR1</td>\n",
       "      <td>Lvl</td>\n",
       "      <td>AllPub</td>\n",
       "      <td>Corner</td>\n",
       "      <td>...</td>\n",
       "      <td>0</td>\n",
       "      <td>NaN</td>\n",
       "      <td>NaN</td>\n",
       "      <td>NaN</td>\n",
       "      <td>0</td>\n",
       "      <td>2</td>\n",
       "      <td>2006</td>\n",
       "      <td>WD</td>\n",
       "      <td>Abnorml</td>\n",
       "      <td>140000</td>\n",
       "    </tr>\n",
       "    <tr>\n",
       "      <td>5</td>\n",
       "      <td>60</td>\n",
       "      <td>RL</td>\n",
       "      <td>84.0</td>\n",
       "      <td>14260</td>\n",
       "      <td>Pave</td>\n",
       "      <td>NaN</td>\n",
       "      <td>IR1</td>\n",
       "      <td>Lvl</td>\n",
       "      <td>AllPub</td>\n",
       "      <td>FR2</td>\n",
       "      <td>...</td>\n",
       "      <td>0</td>\n",
       "      <td>NaN</td>\n",
       "      <td>NaN</td>\n",
       "      <td>NaN</td>\n",
       "      <td>0</td>\n",
       "      <td>12</td>\n",
       "      <td>2008</td>\n",
       "      <td>WD</td>\n",
       "      <td>Normal</td>\n",
       "      <td>250000</td>\n",
       "    </tr>\n",
       "  </tbody>\n",
       "</table>\n",
       "<p>5 rows × 80 columns</p>\n",
       "</div>"
      ],
      "text/plain": [
       "    MSSubClass MSZoning  LotFrontage  LotArea Street Alley LotShape  \\\n",
       "Id                                                                    \n",
       "1           60       RL         65.0     8450   Pave   NaN      Reg   \n",
       "2           20       RL         80.0     9600   Pave   NaN      Reg   \n",
       "3           60       RL         68.0    11250   Pave   NaN      IR1   \n",
       "4           70       RL         60.0     9550   Pave   NaN      IR1   \n",
       "5           60       RL         84.0    14260   Pave   NaN      IR1   \n",
       "\n",
       "   LandContour Utilities LotConfig  ... PoolArea PoolQC Fence MiscFeature  \\\n",
       "Id                                  ...                                     \n",
       "1          Lvl    AllPub    Inside  ...        0    NaN   NaN         NaN   \n",
       "2          Lvl    AllPub       FR2  ...        0    NaN   NaN         NaN   \n",
       "3          Lvl    AllPub    Inside  ...        0    NaN   NaN         NaN   \n",
       "4          Lvl    AllPub    Corner  ...        0    NaN   NaN         NaN   \n",
       "5          Lvl    AllPub       FR2  ...        0    NaN   NaN         NaN   \n",
       "\n",
       "   MiscVal MoSold  YrSold  SaleType  SaleCondition  SalePrice  \n",
       "Id                                                             \n",
       "1        0      2    2008        WD         Normal     208500  \n",
       "2        0      5    2007        WD         Normal     181500  \n",
       "3        0      9    2008        WD         Normal     223500  \n",
       "4        0      2    2006        WD        Abnorml     140000  \n",
       "5        0     12    2008        WD         Normal     250000  \n",
       "\n",
       "[5 rows x 80 columns]"
      ]
     },
     "execution_count": 3,
     "metadata": {},
     "output_type": "execute_result"
    }
   ],
   "source": [
    "train.head()"
   ]
  },
  {
   "cell_type": "markdown",
   "metadata": {},
   "source": [
    "### Cleaning Dataset and Removing Missingness"
   ]
  },
  {
   "cell_type": "code",
   "execution_count": 4,
   "metadata": {},
   "outputs": [],
   "source": [
    "#Putting training and testing dataset together to evaluate NA's and Engineer Features\n",
    "test['SalePrice'] = -1\n",
    "full_set = pd.concat([train,test],axis=0)\n",
    "full_set = full_set[train.columns]"
   ]
  },
  {
   "cell_type": "code",
   "execution_count": 5,
   "metadata": {},
   "outputs": [
    {
     "name": "stdout",
     "output_type": "stream",
     "text": [
      "              NAs_Train  NAs_Test  Total\n",
      "feature                                 \n",
      "PoolQC             1453      1456   2909\n",
      "MiscFeature        1406      1408   2814\n",
      "Alley              1369      1352   2721\n",
      "Fence              1179      1169   2348\n",
      "FireplaceQu         690       730   1420\n",
      "LotFrontage         259       227    486\n",
      "GarageFinish         81        78    159\n",
      "GarageQual           81        78    159\n",
      "GarageCond           81        78    159\n",
      "GarageYrBlt          81        78    159\n",
      "GarageType           81        76    157\n",
      "BsmtExposure         38        44     82\n",
      "BsmtCond             37        45     82\n",
      "BsmtQual             37        44     81\n",
      "BsmtFinType2         38        42     80\n",
      "BsmtFinType1         37        42     79\n",
      "MasVnrType            8        16     24\n",
      "MasVnrArea            8        15     23\n",
      "MSZoning              0         4      4\n",
      "BsmtFullBath          0         2      2\n",
      "BsmtHalfBath          0         2      2\n",
      "Functional            0         2      2\n",
      "Utilities             0         2      2\n",
      "GarageArea            0         1      1\n",
      "GarageCars            0         1      1\n",
      "Electrical            1         0      1\n",
      "KitchenQual           0         1      1\n",
      "TotalBsmtSF           0         1      1\n",
      "BsmtUnfSF             0         1      1\n",
      "BsmtFinSF2            0         1      1\n",
      "BsmtFinSF1            0         1      1\n",
      "Exterior2nd           0         1      1\n",
      "Exterior1st           0         1      1\n",
      "SaleType              0         1      1\n"
     ]
    }
   ],
   "source": [
    "#Columns with at least one NA value\n",
    "nas_train = np.sum(train.isna()).reset_index()\n",
    "nas_train.columns = ['feature', 'NAs_Train']\n",
    "nas_train.set_index('feature', inplace=True)\n",
    "\n",
    "nas_test = np.sum(test.isna()).reset_index()\n",
    "nas_test.columns = ['feature', 'NAs_Test']\n",
    "nas_test.set_index('feature', inplace=True)\n",
    "\n",
    "nas_total = pd.concat([nas_train, nas_test], axis='columns')\n",
    "nas_total['Total'] = nas_total['NAs_Test']+nas_total['NAs_Train']\n",
    "nas_total = nas_total[nas_total['Total']>0].sort_values('Total',ascending=False)\n",
    "print(nas_total)"
   ]
  },
  {
   "cell_type": "markdown",
   "metadata": {},
   "source": [
    "I will not use columns with plenty of NA's since they don't provide a lot of information.\n",
    "Variables with a very small proportion, specially in the testing dataset I will fill them up with the most common value (median)."
   ]
  },
  {
   "cell_type": "code",
   "execution_count": 6,
   "metadata": {},
   "outputs": [
    {
     "name": "stdout",
     "output_type": "stream",
     "text": [
      "Columns to Remove:  Index(['PoolQC', 'MiscFeature', 'Alley', 'Fence', 'FireplaceQu',\n",
      "       'LotFrontage'],\n",
      "      dtype='object', name='feature')\n",
      "\n",
      "Columns to Fill:  Index(['GarageFinish', 'GarageQual', 'GarageCond', 'GarageYrBlt', 'GarageType',\n",
      "       'BsmtExposure', 'BsmtCond', 'BsmtQual', 'BsmtFinType2', 'BsmtFinType1',\n",
      "       'MasVnrType', 'MasVnrArea', 'MSZoning', 'BsmtFullBath', 'BsmtHalfBath',\n",
      "       'Functional', 'Utilities', 'GarageArea', 'GarageCars', 'Electrical',\n",
      "       'KitchenQual', 'TotalBsmtSF', 'BsmtUnfSF', 'BsmtFinSF2', 'BsmtFinSF1',\n",
      "       'Exterior2nd', 'Exterior1st', 'SaleType'],\n",
      "      dtype='object', name='feature')\n"
     ]
    }
   ],
   "source": [
    "columns_to_remove = nas_total.index[0:6]\n",
    "columns_to_fill = nas_total.index[6:]\n",
    "print(\"Columns to Remove: \",columns_to_remove)\n",
    "print(\"\\nColumns to Fill: \",columns_to_fill)"
   ]
  },
  {
   "cell_type": "markdown",
   "metadata": {},
   "source": [
    "__Final dataframe with cleaned data.__"
   ]
  },
  {
   "cell_type": "code",
   "execution_count": 7,
   "metadata": {},
   "outputs": [
    {
     "name": "stdout",
     "output_type": "stream",
     "text": [
      "(2919, 74)\n",
      "(2919, 80)\n"
     ]
    }
   ],
   "source": [
    "clean_df = full_set.drop(columns_to_remove, axis=1)\n",
    "for feature in columns_to_fill:\n",
    "    mode_value = clean_df[feature].mode()[0]\n",
    "    clean_df[feature].fillna(value=mode_value,inplace=True)\n",
    "print(clean_df.shape)\n",
    "print(full_set.shape)"
   ]
  },
  {
   "cell_type": "markdown",
   "metadata": {},
   "source": [
    "__Final dataframe with cleaned data and hot encoding.__"
   ]
  },
  {
   "cell_type": "code",
   "execution_count": 8,
   "metadata": {
    "scrolled": false
   },
   "outputs": [],
   "source": [
    "numeric_columns = ['LotFrontage','LotArea','YearBuilt','YearRemodAdd','MasVnrArea','BsmtFinSF1','BsmtFinSF2','BsmtUnfSF','TotalBsmtSF','1stFlrSF','2ndFlrSF','LowQualFinSF','GrLivArea','GarageYrBlt','GarageArea','WoodDeckSF','OpenPorchSF','EnclosedPorch','3SsnPorch','ScreenPorch','PoolArea','MiscVal']\n",
    "categorical_columns = ['MSSubClass','MSZoning','Street','LotShape','LandContour','Utilities','LotConfig','LandSlope','Neighborhood','Condition1','Condition2','BldgType','HouseStyle','RoofStyle','RoofMatl','Exterior1st','Exterior2nd','MasVnrType','ExterQual','ExterCond','Foundation','BsmtQual','BsmtCond','BsmtExposure','BsmtFinType1','BsmtFinType2','Heating','HeatingQC','CentralAir','Electrical','KitchenQual','Functional','GarageType','GarageFinish','GarageQual','GarageCond','PavedDrive','SaleType','SaleCondition']\n",
    "data = pd.get_dummies(clean_df, prefix_sep='_', columns=categorical_columns, drop_first=False)"
   ]
  },
  {
   "cell_type": "markdown",
   "metadata": {},
   "source": [
    "### Training Set and Testing Set"
   ]
  },
  {
   "cell_type": "code",
   "execution_count": 9,
   "metadata": {},
   "outputs": [],
   "source": [
    "yTr = data.SalePrice[data['SalePrice']>=0]\n",
    "xTr = data[data['SalePrice']>=0].drop(['SalePrice'], axis=1)\n",
    "xTe = data[data['SalePrice']==-1].drop(['SalePrice'], axis=1)\n",
    "\n",
    "#x_train, x_test, y_train, y_test = train_test_split(x, y, test_size=0.30, random_state = 0)"
   ]
  },
  {
   "cell_type": "markdown",
   "metadata": {},
   "source": [
    "### 1. Basic Linear Regression Model"
   ]
  },
  {
   "cell_type": "code",
   "execution_count": 12,
   "metadata": {},
   "outputs": [
    {
     "name": "stdout",
     "output_type": "stream",
     "text": [
      "Accuracy:  0.748\n",
      "MSE:  39856.0\n",
      "Cross-Val Score = 39534.779\n"
     ]
    }
   ],
   "source": [
    "ols = linear_model.LinearRegression()\n",
    "area_columns = ['GrLivArea','LotArea','TotalBsmtSF','OverallQual']\n",
    "x = xTr[area_columns]\n",
    "y = yTr[:]\n",
    "ols.fit(x, y)\n",
    "print(\"Accuracy: \",round(ols.score(x, y),3))\n",
    "print(\"MSE: \",round(mean_squared_error(ols.predict(x),y)**.5))\n",
    "ols_scores = -cross_val_score(ols, x, y, scoring='neg_mean_squared_error', cv = 10)\n",
    "print(\"Cross-Val Score =\",round(np.mean(ols_scores**.5),3))"
   ]
  },
  {
   "cell_type": "markdown",
   "metadata": {},
   "source": [
    "### 2. Saturated Linear Regression Model"
   ]
  },
  {
   "cell_type": "code",
   "execution_count": 13,
   "metadata": {},
   "outputs": [
    {
     "name": "stdout",
     "output_type": "stream",
     "text": [
      "Accuracy:  0.931\n",
      "MSE:  20914.0\n",
      "Cross-Val Score = 32552.147\n"
     ]
    }
   ],
   "source": [
    "ols = linear_model.LinearRegression()\n",
    "x = xTr\n",
    "y = yTr[:]\n",
    "ols.fit(x, y)\n",
    "ols_scores = -cross_val_score(ols, x, y, scoring='neg_mean_squared_error', cv = 10)\n",
    "print(\"Accuracy: \",round(ols.score(x, y),3))\n",
    "print(\"MSE: \",round(mean_squared_error(ols.predict(x),y)**.5))\n",
    "print(\"Cross-Val Score =\",round(np.mean(ols_scores**.5),3))"
   ]
  },
  {
   "cell_type": "markdown",
   "metadata": {},
   "source": [
    "### 3. Ridge Regression Model"
   ]
  },
  {
   "cell_type": "code",
   "execution_count": 16,
   "metadata": {},
   "outputs": [
    {
     "name": "stdout",
     "output_type": "stream",
     "text": [
      "Best alpha =  0.44000000000000006\n",
      "Accuracy:  0.91\n",
      "MSE:  23799.0\n",
      "Cross-Val Score = 29129.06\n"
     ]
    }
   ],
   "source": [
    "x = xTr[:]\n",
    "y = yTr[:]\n",
    "ridge = linear_model.RidgeCV(alphas=np.arange(0.05,4,0.01),normalize=True)\n",
    "ridge.fit(x, y)\n",
    "print(\"Best alpha = \",ridge.alpha_)\n",
    "ridge = linear_model.Ridge(ridge.alpha_,normalize=True)\n",
    "ridge.fit(x, y)\n",
    "ridge_scores = -cross_val_score(ridge, x, y, scoring='neg_mean_squared_error', cv = 10)\n",
    "print(\"Accuracy: \",round(ridge.score(x, y),3))\n",
    "print(\"MSE: \",round(mean_squared_error(ridge.predict(x),y)**.5))\n",
    "print(\"Cross-Val Score =\",round(np.mean(ridge_scores**.5),3))"
   ]
  },
  {
   "cell_type": "markdown",
   "metadata": {},
   "source": [
    "### 4. Lasso Regression Model"
   ]
  },
  {
   "cell_type": "code",
   "execution_count": 17,
   "metadata": {},
   "outputs": [
    {
     "name": "stdout",
     "output_type": "stream",
     "text": [
      "Best alpha =  23.3028608239031\n",
      "Accuracy:  0.916\n",
      "MSE:  23076.0\n",
      "Cross-Val Score = 29633.715\n"
     ]
    }
   ],
   "source": [
    "x = xTr[:]\n",
    "y = yTr[:]\n",
    "\n",
    "lasso = linear_model.LassoCV(eps=0.001, n_alphas=100, cv=5, normalize=True)\n",
    "\n",
    "lasso.fit(x, y)\n",
    "print(\"Best alpha = \",lasso.alpha_)\n",
    "alpha=lasso.alpha_\n",
    "lasso = linear_model.Lasso(alpha=lasso.alpha_, normalize=True)\n",
    "lasso.fit(x, y)\n",
    "lasso_scores = -cross_val_score(lasso, x, y, scoring='neg_mean_squared_error', cv = 10)\n",
    "print(\"Accuracy: \",round(lasso.score(x, y),3))\n",
    "print(\"MSE: \",round(mean_squared_error(lasso.predict(x),y)**.5))\n",
    "print(\"Cross-Val Score =\",round(np.mean(lasso_scores**.5),3))"
   ]
  },
  {
   "cell_type": "markdown",
   "metadata": {},
   "source": [
    "### 5. CART Regression Tree"
   ]
  },
  {
   "cell_type": "code",
   "execution_count": 444,
   "metadata": {},
   "outputs": [],
   "source": [
    "x = xTr[:]\n",
    "y = yTr[:]"
   ]
  },
  {
   "cell_type": "code",
   "execution_count": 20,
   "metadata": {},
   "outputs": [
    {
     "name": "stdout",
     "output_type": "stream",
     "text": [
      "Tree Depth =  3 \tAccuracy:  0.744 \tMSE:  40142.0 \tCross-Val Score = 42869.114\n",
      "Tree Depth =  4 \tAccuracy:  0.81 \tMSE:  34632.0 \tCross-Val Score = 40761.703\n",
      "Tree Depth =  5 \tAccuracy:  0.862 \tMSE:  29523.0 \tCross-Val Score = 39361.282\n",
      "Tree Depth =  6 \tAccuracy:  0.903 \tMSE:  24705.0 \tCross-Val Score = 38161.829\n",
      "Tree Depth =  7 \tAccuracy:  0.937 \tMSE:  19998.0 \tCross-Val Score = 36656.998\n",
      "Tree Depth =  8 \tAccuracy:  0.959 \tMSE:  16099.0 \tCross-Val Score = 38449.188\n",
      "Tree Depth =  9 \tAccuracy:  0.973 \tMSE:  13014.0 \tCross-Val Score = 37791.391\n",
      "Tree Depth =  10 \tAccuracy:  0.983 \tMSE:  10265.0 \tCross-Val Score = 36411.123\n",
      "Tree Depth =  11 \tAccuracy:  0.989 \tMSE:  8237.0 \tCross-Val Score = 39434.644\n",
      "Tree Depth =  12 \tAccuracy:  0.993 \tMSE:  6726.0 \tCross-Val Score = 39371.547\n",
      "Tree Depth =  13 \tAccuracy:  0.995 \tMSE:  5422.0 \tCross-Val Score = 38475.852\n",
      "Tree Depth =  14 \tAccuracy:  0.997 \tMSE:  4306.0 \tCross-Val Score = 38411.309\n",
      "Tree Depth =  15 \tAccuracy:  0.998 \tMSE:  3217.0 \tCross-Val Score = 38723.831\n"
     ]
    }
   ],
   "source": [
    "for i in range(3,16):\n",
    "    tree = DecisionTreeRegressor(max_depth=i)\n",
    "    tree.fit(x, y)\n",
    "    tree_scores = -cross_val_score(tree, x, y, scoring='neg_mean_squared_error', cv = 10)\n",
    "    print(\"Tree Depth = \",i,\"\\tAccuracy: \",round(tree.score(x, y),3),\"\\tMSE: \",round(mean_squared_error(tree.predict(x),y)**.5),\"\\tCross-Val Score =\",round(np.mean(tree_scores**.5),3))"
   ]
  },
  {
   "cell_type": "markdown",
   "metadata": {},
   "source": [
    "### 6. Gradient Boosting Regression"
   ]
  },
  {
   "cell_type": "code",
   "execution_count": 38,
   "metadata": {},
   "outputs": [
    {
     "name": "stdout",
     "output_type": "stream",
     "text": [
      "Accuracy:  0.992\n",
      "MSE:  6974.0\n",
      "Cross-Val Score = 25309.239\n"
     ]
    }
   ],
   "source": [
    "x = xTr[:]\n",
    "y = yTr[:]\n",
    "boost = GradientBoostingRegressor(n_estimators=500)\n",
    "boost.fit(x, y)\n",
    "boost_scores = -cross_val_score(boost, x, y, scoring='neg_mean_squared_error', cv = 10)\n",
    "print(\"Accuracy: \",round(boost.score(x, y),3))\n",
    "print(\"MSE: \",round(mean_squared_error(boost.predict(x),y)**.5))\n",
    "print(\"Cross-Val Score =\",round(np.mean(boost_scores**.5),3))"
   ]
  },
  {
   "cell_type": "markdown",
   "metadata": {},
   "source": [
    "__GridSearch for Random Forest Regressor__"
   ]
  },
  {
   "cell_type": "code",
   "execution_count": 42,
   "metadata": {},
   "outputs": [
    {
     "name": "stdout",
     "output_type": "stream",
     "text": [
      "{'learning_rate': 0.1, 'max_depth': 3}\n"
     ]
    }
   ],
   "source": [
    "param_grid = [\n",
    "    {'learning_rate':[0.05,0.1],'max_depth':[3,4,5,6,7,8]}\n",
    "            ]\n",
    "boost = GradientBoostingRegressor()\n",
    "grid_search = GridSearchCV(boost,param_grid, cv=5, scoring='neg_mean_squared_error',return_train_score=True)\n",
    "grid_search.fit(x,y)\n",
    "print(grid_search.best_params_)"
   ]
  },
  {
   "cell_type": "code",
   "execution_count": 43,
   "metadata": {},
   "outputs": [
    {
     "data": {
      "text/plain": [
       "GradientBoostingRegressor(alpha=0.9, criterion='friedman_mse', init=None,\n",
       "                          learning_rate=0.1, loss='ls', max_depth=3,\n",
       "                          max_features=None, max_leaf_nodes=None,\n",
       "                          min_impurity_decrease=0.0, min_impurity_split=None,\n",
       "                          min_samples_leaf=1, min_samples_split=2,\n",
       "                          min_weight_fraction_leaf=0.0, n_estimators=100,\n",
       "                          n_iter_no_change=None, presort='auto',\n",
       "                          random_state=None, subsample=1.0, tol=0.0001,\n",
       "                          validation_fraction=0.1, verbose=0, warm_start=False)"
      ]
     },
     "execution_count": 43,
     "metadata": {},
     "output_type": "execute_result"
    }
   ],
   "source": [
    "#Best parameters\n",
    "grid_search.best_estimator_"
   ]
  },
  {
   "cell_type": "code",
   "execution_count": 44,
   "metadata": {
    "scrolled": false
   },
   "outputs": [
    {
     "name": "stdout",
     "output_type": "stream",
     "text": [
      "28388.14259399001 {'learning_rate': 0.05, 'max_depth': 3}\n",
      "27562.427075590207 {'learning_rate': 0.05, 'max_depth': 4}\n",
      "28813.062190788824 {'learning_rate': 0.05, 'max_depth': 5}\n",
      "29661.471357600894 {'learning_rate': 0.05, 'max_depth': 6}\n",
      "31394.432766104946 {'learning_rate': 0.05, 'max_depth': 7}\n",
      "32458.05765940475 {'learning_rate': 0.05, 'max_depth': 8}\n",
      "26608.927362337923 {'learning_rate': 0.1, 'max_depth': 3}\n",
      "26711.93213425203 {'learning_rate': 0.1, 'max_depth': 4}\n",
      "28899.555772452735 {'learning_rate': 0.1, 'max_depth': 5}\n",
      "28487.703691805953 {'learning_rate': 0.1, 'max_depth': 6}\n",
      "31752.34034280946 {'learning_rate': 0.1, 'max_depth': 7}\n",
      "32425.004676546087 {'learning_rate': 0.1, 'max_depth': 8}\n"
     ]
    }
   ],
   "source": [
    "cvres = grid_search.cv_results_\n",
    "for mean_score,params in zip(cvres[\"mean_test_score\"],cvres[\"params\"]):\n",
    "    print((-mean_score)**.5,params)"
   ]
  },
  {
   "cell_type": "markdown",
   "metadata": {},
   "source": [
    "### 7. Random Forest Regressor"
   ]
  },
  {
   "cell_type": "code",
   "execution_count": 28,
   "metadata": {},
   "outputs": [
    {
     "name": "stdout",
     "output_type": "stream",
     "text": [
      "Accuracy:  0.977\n",
      "MSE:  11921.0\n",
      "Cross-Val Score = 29292.802\n"
     ]
    }
   ],
   "source": [
    "x = xTr[:]\n",
    "y = yTr[:]\n",
    "forest = RandomForestRegressor(n_estimators=100)\n",
    "forest.fit(x, y)\n",
    "forest_scores = -cross_val_score(forest, x, y, scoring='neg_mean_squared_error', cv = 10)\n",
    "print(\"Accuracy: \",round(forest.score(x, y),3))\n",
    "print(\"MSE: \",round(mean_squared_error(forest.predict(x),y)**.5))\n",
    "print(\"Cross-Val Score =\",round(np.mean(forest_scores**.5),3))"
   ]
  },
  {
   "cell_type": "markdown",
   "metadata": {},
   "source": [
    "__GridSearch for Random Forest Regressor__"
   ]
  },
  {
   "cell_type": "code",
   "execution_count": 35,
   "metadata": {},
   "outputs": [
    {
     "data": {
      "text/plain": [
       "{'bootstrap': False, 'max_features': 17, 'n_estimators': 60}"
      ]
     },
     "execution_count": 35,
     "metadata": {},
     "output_type": "execute_result"
    }
   ],
   "source": [
    "param_grid = [\n",
    "    {'n_estimators':[25,30,35,40,45,50],'max_features':[6,8,10,12,14,16,18,20]},\n",
    "    {'bootstrap':[False],'n_estimators':[30,35,40,45,50,55,60,65,70],'max_features':[5,7,9,11,13,15,17,19]}\n",
    "            ]\n",
    "forest = RandomForestRegressor()\n",
    "grid_search = GridSearchCV(forest,param_grid, cv=5, scoring='neg_mean_squared_error',return_train_score=True)\n",
    "grid_search.fit(x,y)\n",
    "print(grid_search.best_params_)"
   ]
  },
  {
   "cell_type": "code",
   "execution_count": 36,
   "metadata": {},
   "outputs": [
    {
     "data": {
      "text/plain": [
       "RandomForestRegressor(bootstrap=False, criterion='mse', max_depth=None,\n",
       "                      max_features=17, max_leaf_nodes=None,\n",
       "                      min_impurity_decrease=0.0, min_impurity_split=None,\n",
       "                      min_samples_leaf=1, min_samples_split=2,\n",
       "                      min_weight_fraction_leaf=0.0, n_estimators=60,\n",
       "                      n_jobs=None, oob_score=False, random_state=None,\n",
       "                      verbose=0, warm_start=False)"
      ]
     },
     "execution_count": 36,
     "metadata": {},
     "output_type": "execute_result"
    }
   ],
   "source": [
    "#Best parameters\n",
    "grid_search.best_estimator_"
   ]
  },
  {
   "cell_type": "code",
   "execution_count": 37,
   "metadata": {
    "scrolled": false
   },
   "outputs": [
    {
     "name": "stdout",
     "output_type": "stream",
     "text": [
      "34449.577630774496 {'max_features': 6, 'n_estimators': 25}\n",
      "34460.817556293616 {'max_features': 6, 'n_estimators': 30}\n",
      "33450.458625918094 {'max_features': 6, 'n_estimators': 35}\n",
      "33921.59288666305 {'max_features': 6, 'n_estimators': 40}\n",
      "33892.11707697234 {'max_features': 6, 'n_estimators': 45}\n",
      "33546.85471480323 {'max_features': 6, 'n_estimators': 50}\n",
      "33395.3350962573 {'max_features': 8, 'n_estimators': 25}\n",
      "33099.82270829735 {'max_features': 8, 'n_estimators': 30}\n",
      "32086.11621355113 {'max_features': 8, 'n_estimators': 35}\n",
      "32616.420373985315 {'max_features': 8, 'n_estimators': 40}\n",
      "32981.88257731737 {'max_features': 8, 'n_estimators': 45}\n",
      "32517.668661002073 {'max_features': 8, 'n_estimators': 50}\n",
      "33450.37010578902 {'max_features': 10, 'n_estimators': 25}\n",
      "32967.23083167836 {'max_features': 10, 'n_estimators': 30}\n",
      "32952.7189136646 {'max_features': 10, 'n_estimators': 35}\n",
      "33151.95486188233 {'max_features': 10, 'n_estimators': 40}\n",
      "32073.92979185123 {'max_features': 10, 'n_estimators': 45}\n",
      "32853.19692673103 {'max_features': 10, 'n_estimators': 50}\n",
      "32313.135402610198 {'max_features': 12, 'n_estimators': 25}\n",
      "32872.721319625794 {'max_features': 12, 'n_estimators': 30}\n",
      "32070.69599345641 {'max_features': 12, 'n_estimators': 35}\n",
      "31445.112936537254 {'max_features': 12, 'n_estimators': 40}\n",
      "31562.037451422013 {'max_features': 12, 'n_estimators': 45}\n",
      "32043.721155438696 {'max_features': 12, 'n_estimators': 50}\n",
      "31219.26293948489 {'max_features': 14, 'n_estimators': 25}\n",
      "32887.60493834513 {'max_features': 14, 'n_estimators': 30}\n",
      "31260.32015740798 {'max_features': 14, 'n_estimators': 35}\n",
      "31556.128291320027 {'max_features': 14, 'n_estimators': 40}\n",
      "31537.171837972845 {'max_features': 14, 'n_estimators': 45}\n",
      "31591.41381930589 {'max_features': 14, 'n_estimators': 50}\n",
      "31994.469472960554 {'max_features': 16, 'n_estimators': 25}\n",
      "31535.52871144026 {'max_features': 16, 'n_estimators': 30}\n",
      "31048.726896883363 {'max_features': 16, 'n_estimators': 35}\n",
      "31359.639268349158 {'max_features': 16, 'n_estimators': 40}\n",
      "30636.56197038695 {'max_features': 16, 'n_estimators': 45}\n",
      "31159.94623131261 {'max_features': 16, 'n_estimators': 50}\n",
      "31034.903012147493 {'max_features': 18, 'n_estimators': 25}\n",
      "32043.55491533557 {'max_features': 18, 'n_estimators': 30}\n",
      "31012.024824868633 {'max_features': 18, 'n_estimators': 35}\n",
      "30265.23470651181 {'max_features': 18, 'n_estimators': 40}\n",
      "31139.12210958142 {'max_features': 18, 'n_estimators': 45}\n",
      "31006.516082815087 {'max_features': 18, 'n_estimators': 50}\n",
      "32001.417412139013 {'max_features': 20, 'n_estimators': 25}\n",
      "31880.428650468035 {'max_features': 20, 'n_estimators': 30}\n",
      "30316.73135237676 {'max_features': 20, 'n_estimators': 35}\n",
      "30597.390939544894 {'max_features': 20, 'n_estimators': 40}\n",
      "30867.590304362886 {'max_features': 20, 'n_estimators': 45}\n",
      "30765.912630777566 {'max_features': 20, 'n_estimators': 50}\n",
      "32835.175847047205 {'bootstrap': False, 'max_features': 5, 'n_estimators': 30}\n",
      "32925.95981308997 {'bootstrap': False, 'max_features': 5, 'n_estimators': 35}\n",
      "32612.91201218035 {'bootstrap': False, 'max_features': 5, 'n_estimators': 40}\n",
      "32766.636734758828 {'bootstrap': False, 'max_features': 5, 'n_estimators': 45}\n",
      "32365.209301532577 {'bootstrap': False, 'max_features': 5, 'n_estimators': 50}\n",
      "32872.72948150148 {'bootstrap': False, 'max_features': 5, 'n_estimators': 55}\n",
      "32709.87578196888 {'bootstrap': False, 'max_features': 5, 'n_estimators': 60}\n",
      "33133.39612997845 {'bootstrap': False, 'max_features': 5, 'n_estimators': 65}\n",
      "33074.67943015524 {'bootstrap': False, 'max_features': 5, 'n_estimators': 70}\n",
      "32376.69501925641 {'bootstrap': False, 'max_features': 7, 'n_estimators': 30}\n",
      "32090.366291390917 {'bootstrap': False, 'max_features': 7, 'n_estimators': 35}\n",
      "31198.434955768626 {'bootstrap': False, 'max_features': 7, 'n_estimators': 40}\n",
      "31757.390047812933 {'bootstrap': False, 'max_features': 7, 'n_estimators': 45}\n",
      "31630.57938559332 {'bootstrap': False, 'max_features': 7, 'n_estimators': 50}\n",
      "32434.517652516246 {'bootstrap': False, 'max_features': 7, 'n_estimators': 55}\n",
      "32761.32226090684 {'bootstrap': False, 'max_features': 7, 'n_estimators': 60}\n",
      "31177.22158951171 {'bootstrap': False, 'max_features': 7, 'n_estimators': 65}\n",
      "31261.21127508496 {'bootstrap': False, 'max_features': 7, 'n_estimators': 70}\n",
      "30977.66209387134 {'bootstrap': False, 'max_features': 9, 'n_estimators': 30}\n",
      "30584.85016178102 {'bootstrap': False, 'max_features': 9, 'n_estimators': 35}\n",
      "31248.30632973067 {'bootstrap': False, 'max_features': 9, 'n_estimators': 40}\n",
      "30761.59582341065 {'bootstrap': False, 'max_features': 9, 'n_estimators': 45}\n",
      "31478.60073770593 {'bootstrap': False, 'max_features': 9, 'n_estimators': 50}\n",
      "31355.241477491432 {'bootstrap': False, 'max_features': 9, 'n_estimators': 55}\n",
      "30726.30495433252 {'bootstrap': False, 'max_features': 9, 'n_estimators': 60}\n",
      "31113.799140802537 {'bootstrap': False, 'max_features': 9, 'n_estimators': 65}\n",
      "31214.928176637404 {'bootstrap': False, 'max_features': 9, 'n_estimators': 70}\n",
      "30890.33783305843 {'bootstrap': False, 'max_features': 11, 'n_estimators': 30}\n",
      "31657.217114500607 {'bootstrap': False, 'max_features': 11, 'n_estimators': 35}\n",
      "31016.8925238857 {'bootstrap': False, 'max_features': 11, 'n_estimators': 40}\n",
      "30746.3545361504 {'bootstrap': False, 'max_features': 11, 'n_estimators': 45}\n",
      "30925.73610391235 {'bootstrap': False, 'max_features': 11, 'n_estimators': 50}\n",
      "31333.798187657256 {'bootstrap': False, 'max_features': 11, 'n_estimators': 55}\n",
      "30507.664936702586 {'bootstrap': False, 'max_features': 11, 'n_estimators': 60}\n",
      "29440.873961654543 {'bootstrap': False, 'max_features': 11, 'n_estimators': 65}\n",
      "29811.551217234588 {'bootstrap': False, 'max_features': 11, 'n_estimators': 70}\n",
      "30920.843986170443 {'bootstrap': False, 'max_features': 13, 'n_estimators': 30}\n",
      "30765.01981151436 {'bootstrap': False, 'max_features': 13, 'n_estimators': 35}\n",
      "30308.123949582347 {'bootstrap': False, 'max_features': 13, 'n_estimators': 40}\n",
      "30366.39444168668 {'bootstrap': False, 'max_features': 13, 'n_estimators': 45}\n",
      "30472.724452462124 {'bootstrap': False, 'max_features': 13, 'n_estimators': 50}\n",
      "30339.3593307178 {'bootstrap': False, 'max_features': 13, 'n_estimators': 55}\n",
      "29650.29505611435 {'bootstrap': False, 'max_features': 13, 'n_estimators': 60}\n",
      "29496.402145121356 {'bootstrap': False, 'max_features': 13, 'n_estimators': 65}\n",
      "29969.111874911563 {'bootstrap': False, 'max_features': 13, 'n_estimators': 70}\n",
      "30310.048999754872 {'bootstrap': False, 'max_features': 15, 'n_estimators': 30}\n",
      "30550.553198072765 {'bootstrap': False, 'max_features': 15, 'n_estimators': 35}\n",
      "30171.926133947512 {'bootstrap': False, 'max_features': 15, 'n_estimators': 40}\n",
      "29967.997695415463 {'bootstrap': False, 'max_features': 15, 'n_estimators': 45}\n",
      "29727.390902701645 {'bootstrap': False, 'max_features': 15, 'n_estimators': 50}\n",
      "29382.33155143178 {'bootstrap': False, 'max_features': 15, 'n_estimators': 55}\n",
      "30230.31762068545 {'bootstrap': False, 'max_features': 15, 'n_estimators': 60}\n",
      "29810.281403305544 {'bootstrap': False, 'max_features': 15, 'n_estimators': 65}\n",
      "29887.494887725028 {'bootstrap': False, 'max_features': 15, 'n_estimators': 70}\n",
      "30172.288751729677 {'bootstrap': False, 'max_features': 17, 'n_estimators': 30}\n",
      "30453.549419151466 {'bootstrap': False, 'max_features': 17, 'n_estimators': 35}\n",
      "30442.311589898563 {'bootstrap': False, 'max_features': 17, 'n_estimators': 40}\n",
      "29797.99070149728 {'bootstrap': False, 'max_features': 17, 'n_estimators': 45}\n",
      "29628.81652605774 {'bootstrap': False, 'max_features': 17, 'n_estimators': 50}\n",
      "29667.36769557069 {'bootstrap': False, 'max_features': 17, 'n_estimators': 55}\n",
      "28645.611450815442 {'bootstrap': False, 'max_features': 17, 'n_estimators': 60}\n",
      "29868.622225631385 {'bootstrap': False, 'max_features': 17, 'n_estimators': 65}\n",
      "28786.77537962221 {'bootstrap': False, 'max_features': 17, 'n_estimators': 70}\n",
      "29782.705090616906 {'bootstrap': False, 'max_features': 19, 'n_estimators': 30}\n",
      "29178.782225216695 {'bootstrap': False, 'max_features': 19, 'n_estimators': 35}\n",
      "29540.65179771346 {'bootstrap': False, 'max_features': 19, 'n_estimators': 40}\n",
      "29287.135495335293 {'bootstrap': False, 'max_features': 19, 'n_estimators': 45}\n",
      "29503.59727160893 {'bootstrap': False, 'max_features': 19, 'n_estimators': 50}\n",
      "29119.60568764314 {'bootstrap': False, 'max_features': 19, 'n_estimators': 55}\n",
      "29059.904615752945 {'bootstrap': False, 'max_features': 19, 'n_estimators': 60}\n",
      "29212.40563600116 {'bootstrap': False, 'max_features': 19, 'n_estimators': 65}\n",
      "29648.80953321917 {'bootstrap': False, 'max_features': 19, 'n_estimators': 70}\n"
     ]
    }
   ],
   "source": [
    "cvres = grid_search.cv_results_\n",
    "for mean_score,params in zip(cvres[\"mean_test_score\"],cvres[\"params\"]):\n",
    "    print((-mean_score)**.5,params)"
   ]
  },
  {
   "cell_type": "code",
   "execution_count": null,
   "metadata": {},
   "outputs": [],
   "source": []
  }
 ],
 "metadata": {
  "kernelspec": {
   "display_name": "Python 3",
   "language": "python",
   "name": "python3"
  },
  "language_info": {
   "codemirror_mode": {
    "name": "ipython",
    "version": 3
   },
   "file_extension": ".py",
   "mimetype": "text/x-python",
   "name": "python",
   "nbconvert_exporter": "python",
   "pygments_lexer": "ipython3",
   "version": "3.7.4"
  }
 },
 "nbformat": 4,
 "nbformat_minor": 2
}
